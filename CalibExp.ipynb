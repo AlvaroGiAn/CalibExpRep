{
 "cells": [
  {
   "cell_type": "markdown",
   "metadata": {},
   "source": [
    "## Calibration experiment for fatigue estimation parameters\n"
   ]
  },
  {
   "cell_type": "code",
   "execution_count": 1,
   "metadata": {},
   "outputs": [],
   "source": [
    "import sys\n",
    "import pytrigno\n",
    "import Plot2D\n",
    "from time import perf_counter\n",
    "from scipy import signal\n",
    "import os\n",
    "import reprlib\n",
    "import numpy as np\n",
    "from numpy import arange\n",
    "import PyQt5\n",
    "import pyqtgraph as pg\n",
    "from pyqtgraph.Qt import QtCore, QtGui\n",
    "import socket\n",
    "import struct\n",
    "import math \n"
   ]
  },
  {
   "cell_type": "markdown",
   "metadata": {},
   "source": [
    "### This experiment will consist on two parts: \n",
    "- A first part in order to record the maximum voluntary contraction (MVC). Value that is going to be used for normalysing the emg signals.\n",
    "- A second part will consist on exerting 0.3 times the MVC for as long as possible. With this the fatigue parameters are going to be calculated.\n",
    "\n",
    "## First part: \n",
    "\n",
    "The user will place the sensor on the muscle of interest, the anterior deltoid. Once it is properly located, the experiment will begin. For this first part the subject will exert as much force as possible with such muscle against the blocking hands of the experimenter. The pose of the subject will remain a 125º shoulder flexion with derotated scapula, in sitting position, erect posture and without back support. An example of this can be found in the following image. The subject will be asked to exert that force for 3 seconds.\n",
    "\n",
    "<center><img src='calib.png'></center> \n"
   ]
  },
  {
   "cell_type": "markdown",
   "metadata": {},
   "source": [
    "#### The LE function will calculate the linear envelope of the EMG signal. For this, only butterworth filters are used.\n",
    " \n",
    " \n",
    " \n",
    "**Parameters:** \n",
    "- f: EMG signal\n",
    "- hpf: Cutoff frequency in Hz for the high pass filter\n",
    "- lpf: Cutoff frequency in Hz for the low pass filter\n",
    "- hpn: order of the high pass butterworth filter\n",
    "- lpn: order of the low pass butterworth filter\n",
    "- fs: sampling frequency of the signal\n",
    "\n",
    "**Output:** \n",
    "- sle: linear envelope of the EMG signal. With the same shape as the "
   ]
  },
  {
   "cell_type": "code",
   "execution_count": 2,
   "metadata": {},
   "outputs": [],
   "source": [
    "\n",
    "def LE(f, hpf, lpf, hpn, lpn, fs):\n",
    "\n",
    "    nyq = fs/2\n",
    "    hpfn = hpf/nyq\n",
    "    lpfn = lpf/nyq\n",
    "\n",
    "    b, a = signal.butter(hpn, hpfn, btype='highpass', analog=False, output='ba' )\n",
    "    f = signal.filtfilt(b, a, f)\n",
    "\n",
    "    f = np.absolute(f)\n",
    "\n",
    "    d, c = signal.butter(lpn, lpfn, btype='lowpass', analog=False, output='ba' )\n",
    "    sle = signal.filtfilt(d, c, f)\n",
    "\n",
    "    return sle\n"
   ]
  },
  {
   "cell_type": "code",
   "execution_count": 3,
   "metadata": {},
   "outputs": [],
   "source": [
    "dev = pytrigno.TrignoEMG(channel_range=(0, 0), samples_per_read=300, host='localhost', units='mV')\n",
    "i = 0\n",
    "j = 0\n",
    "k = 0\n",
    "dev.start()\n",
    "\n",
    "d1 = [0]\n",
    "d2 = [0]\n",
    "d3 = [0]"
   ]
  },
  {
   "cell_type": "code",
   "execution_count": 4,
   "metadata": {},
   "outputs": [],
   "source": [
    "def test1():\n",
    "    \n",
    "    global p1, l1, f1, s1, d1, i, timerout1\n",
    "    \n",
    "     \n",
    "        \n",
    "    if (i == 0):\n",
    "        timerout1.start(5000)\n",
    "            \n",
    "    t = np.arange(0,300,1)\n",
    "    f1 = dev.read()\n",
    "    assert f1.shape == (1, 300)\n",
    "\n",
    "    f1 = f1.T\n",
    "    s1 = f1.reshape(300,)\n",
    "    p1.trace(\"EMG\", t, s1)\n",
    "\n",
    "    l1 = LE(s1, 20, 50, 6, 4, 2000)\n",
    "    p1.trace(\"LE\", t, l1)\n",
    "        \n",
    "    d1.append(l1.max())\n",
    "    i = 1\n"
   ]
  },
  {
   "cell_type": "markdown",
   "metadata": {},
   "source": [
    "### Trial 1.1\n"
   ]
  },
  {
   "cell_type": "code",
   "execution_count": 5,
   "metadata": {},
   "outputs": [],
   "source": [
    "p1 = Plot2D.Plot2D()\n",
    "timer1 = QtCore.QTimer()\n",
    "timerout1 = QtCore.QTimer()\n",
    "timer1.timeout.connect(test1)\n",
    "timerout1.timeout.connect(lambda: timer1.stop())\n",
    "timer1.start()\n",
    "p1.start()\n",
    " "
   ]
  },
  {
   "cell_type": "code",
   "execution_count": 6,
   "metadata": {},
   "outputs": [],
   "source": [
    "def test2():\n",
    "        \n",
    "    global p2, l2, f2, s2, d2, j, timerout2\n",
    "        \n",
    "    if (j == 0):\n",
    "        timerout2.start(5000)\n",
    "            \n",
    "    t = np.arange(0,300,1)\n",
    "    f2 = dev.read()\n",
    "    assert f2.shape == (1, 300)\n",
    "\n",
    "    f2 = f2.T\n",
    "    s2 = f2.reshape(300,)\n",
    "    p2.trace(\"EMG\", t, s2)\n",
    "\n",
    "    l2 = LE(s2, 20, 50, 6, 4, 2000)\n",
    "    p2.trace(\"LE\", t, l2)\n",
    "        \n",
    "    d2.append(l2.max())\n",
    "    j = 1"
   ]
  },
  {
   "cell_type": "markdown",
   "metadata": {},
   "source": [
    "### Trial 1.2"
   ]
  },
  {
   "cell_type": "code",
   "execution_count": 7,
   "metadata": {},
   "outputs": [],
   "source": [
    "j = 0\n",
    "p2 = Plot2D.Plot2D()\n",
    "timer2 = QtCore.QTimer()\n",
    "timerout2 = QtCore.QTimer()\n",
    "timer2.timeout.connect(test2)\n",
    "timerout2.timeout.connect(lambda: timer2.stop())\n",
    "timer2.start()\n",
    "p2.start()\n",
    "\n",
    "    "
   ]
  },
  {
   "cell_type": "code",
   "execution_count": 8,
   "metadata": {},
   "outputs": [],
   "source": [
    "def test3():\n",
    "    \n",
    "    global p3, l3, f3, s3, d3, k, timerout3\n",
    "        \n",
    "    if (k == 0):\n",
    "        timerout3.start(5000)\n",
    "            \n",
    "    t = np.arange(0,300,1)\n",
    "    f3 = dev.read()\n",
    "    assert f3.shape == (1, 300)\n",
    "\n",
    "    f3 = f3.T\n",
    "    s3 = f3.reshape(300,)\n",
    "    p3.trace(\"EMG\", t, s3)\n",
    "\n",
    "    l3 = LE(s3, 20, 50, 6, 4, 2000)\n",
    "    p3.trace(\"LE\", t, l3)\n",
    "        \n",
    "    d3.append(l3.max())\n",
    "    k = 1\n"
   ]
  },
  {
   "cell_type": "markdown",
   "metadata": {},
   "source": [
    "### Trial 1.3"
   ]
  },
  {
   "cell_type": "code",
   "execution_count": 9,
   "metadata": {},
   "outputs": [],
   "source": [
    "\n",
    "p3 = Plot2D.Plot2D()\n",
    "timer3 = QtCore.QTimer()\n",
    "timerout3 = QtCore.QTimer()\n",
    "timer3.timeout.connect(test3)\n",
    "timerout3.timeout.connect(lambda: timer3.stop())\n",
    "timer3.start()\n",
    "p3.start()\n",
    "\n",
    "    "
   ]
  },
  {
   "cell_type": "markdown",
   "metadata": {},
   "source": [
    "#### Calculated MVC:"
   ]
  },
  {
   "cell_type": "code",
   "execution_count": 10,
   "metadata": {},
   "outputs": [
    {
     "name": "stdout",
     "output_type": "stream",
     "text": [
      "MVC = 0.8337518250470621\n"
     ]
    }
   ],
   "source": [
    "dev.stop()\n",
    "\n",
    "d1 = np.array(d1)\n",
    "d2 = np.array(d2)\n",
    "d3 = np.array(d3)\n",
    "\n",
    "dtot = [d1.max(), d2.max(), d3.max()]\n",
    "MVC = sum(dtot)/3\n",
    "print('MVC', MVC, sep=' = ')"
   ]
  },
  {
   "cell_type": "markdown",
   "metadata": {},
   "source": [
    "## Second Part\n",
    "\n",
    "In this second part the subject will repeat the task, but this time the goal will be to keep the muscle activation, represented by the red line, between the two thresholds that are drown in the visual feedback plot (green and blue line). When fatigue is accumulated enough for use to loose control over the red line and it crosses the yelow line it will stop and save the time we endured. We can see a screenshot of the graph below. This part will consist on two trials. \n",
    "\n",
    "<center><img src='plot.png'></center> "
   ]
  },
  {
   "cell_type": "code",
   "execution_count": 11,
   "metadata": {},
   "outputs": [],
   "source": [
    "d4 = [0]\n",
    "z = 0\n",
    "th = 0.1\n",
    "t = np.arange(0, 300, 1)\n",
    "mvc = np.full(len(t), 0.3*MVC)\n",
    "hth = np.full (len(t), (0.3*MVC)+th)\n",
    "lth = np.full (len(t), (0.3*MVC)-th)\n",
    "#dev2 = pytrigno.TrignoEMG(channel_range=(0, 0), samples_per_read=300, host='localhost', units='mV')\n",
    "#dev2.start()"
   ]
  },
  {
   "cell_type": "code",
   "execution_count": 12,
   "metadata": {},
   "outputs": [],
   "source": [
    "def test4():\n",
    "    \n",
    "    global p4, l4, f4, s4, d4, z, hth, lth, MVC, mvc, Tend1, tstart, th, t\n",
    "    \n",
    "    if (z == 0):\n",
    "        tstart = perf_counter()\n",
    "    \n",
    "    z += 1\n",
    "    \n",
    "    p4.trace(\"0.3MVC\", t, mvc)\n",
    "    p4.trace(\"High th\", t, hth)\n",
    "    p4.trace(\"Low th\", t, lth)\n",
    "    \n",
    "    f4 = dev.read()\n",
    "    assert f4.shape == (1, 300)\n",
    "    \n",
    "    f4 = f4.T\n",
    "    s4 = f4.reshape(300,)\n",
    "    l4 = LE(s4, 20, 50, 6, 4, 2000)\n",
    "    l4 = np.full(len(t), l4.max())\n",
    "    p4.trace(\"LE\", t, l4)\n",
    "    \n",
    "#    if (l4.all() > (0.3*MVC)+0.1):\n",
    "#        tstop = perf_counter()\n",
    "#        print(\"The experiment is wrong\")\n",
    "#        z = 0\n",
    "#        timer4.stop()\n",
    "    \n",
    "    if (l4.max() < (0.3*MVC)-th and z > 100):\n",
    "        tstop= perf_counter()\n",
    "        Tend1 = tstop-tstart\n",
    "        print (Tend1)\n",
    "        timer4.stop()\n",
    "        dev.stop()      "
   ]
  },
  {
   "cell_type": "markdown",
   "metadata": {},
   "source": [
    "### Trial 2.1"
   ]
  },
  {
   "cell_type": "code",
   "execution_count": 13,
   "metadata": {},
   "outputs": [
    {
     "name": "stdout",
     "output_type": "stream",
     "text": [
      "12.842549399999996\n"
     ]
    }
   ],
   "source": [
    "p4 = Plot2D.Plot2D()\n",
    "timer4 = QtCore.QTimer()\n",
    "timer4.timeout.connect(test4)\n",
    "dev.start()\n",
    "timer4.start()\n",
    "p4.start()"
   ]
  },
  {
   "cell_type": "code",
   "execution_count": 14,
   "metadata": {},
   "outputs": [],
   "source": [
    "def test5():\n",
    "    \n",
    "    global p5, l5, f5, s5, d5, z, hth, lth, MVC, mvc, Tend2, tstart2, th, t\n",
    "    \n",
    "    if (z == 0):\n",
    "        tstart2 = perf_counter()\n",
    "    \n",
    "    z += 1\n",
    "    \n",
    "    p5.trace(\"0.3MVC\", t, mvc)\n",
    "    p5.trace(\"High th\", t, hth)\n",
    "    p5.trace(\"Low th\", t, lth)\n",
    "    \n",
    "    f5 = dev.read()\n",
    "    assert f5.shape == (1, 300)\n",
    "    \n",
    "    f5 = f5.T\n",
    "    s5 = f5.reshape(300,)\n",
    "    l5 = LE(s5, 20, 50, 6, 4, 2000)\n",
    "    l5 = np.full(len(t), l5.max())\n",
    "    p5.trace(\"LE\", t, l5)\n",
    "    \n",
    "#    if (l4.all() > (0.3*MVC)+0.1):\n",
    "#        tstop = perf_counter()\n",
    "#        print(\"The experiment is wrong\")\n",
    "#        z = 0\n",
    "#        timer4.stop()\n",
    "    \n",
    "    if (l5.max() < (0.3*MVC)-th and z > 100):\n",
    "        tstop2= perf_counter()\n",
    "        Tend2 = tstop2 - tstart2\n",
    "        print (Tend2)\n",
    "        timer5.stop()\n",
    "        dev.stop() "
   ]
  },
  {
   "cell_type": "markdown",
   "metadata": {},
   "source": [
    "### Trial 2.2"
   ]
  },
  {
   "cell_type": "code",
   "execution_count": 15,
   "metadata": {},
   "outputs": [
    {
     "name": "stdout",
     "output_type": "stream",
     "text": [
      "20.8973546\n"
     ]
    }
   ],
   "source": [
    "z = 0\n",
    "p5 = Plot2D.Plot2D()\n",
    "timer5 = QtCore.QTimer()\n",
    "timer5.timeout.connect(test5)\n",
    "dev.start()\n",
    "timer5.start()\n",
    "p5.start()\n",
    "\n"
   ]
  },
  {
   "cell_type": "markdown",
   "metadata": {},
   "source": [
    "#### Calculated Tend"
   ]
  },
  {
   "cell_type": "code",
   "execution_count": 16,
   "metadata": {},
   "outputs": [
    {
     "name": "stdout",
     "output_type": "stream",
     "text": [
      "Tend = 16.869951999999998\n"
     ]
    }
   ],
   "source": [
    "Tend = (Tend1 + Tend2)/2\n",
    "print(\"Tend\", Tend, sep = ' = ')\n",
    "\n",
    "file = open(\"calibparam.txt\", \"w\")\n",
    "mvcs = repr(MVC)\n",
    "tends = repr(Tend)\n",
    "\n",
    "file.write(mvcs + \"\\n\" + tends)\n",
    "file.close()\n"
   ]
  },
  {
   "cell_type": "code",
   "execution_count": null,
   "metadata": {},
   "outputs": [],
   "source": []
  }
 ],
 "metadata": {
  "kernelspec": {
   "display_name": "calibenv",
   "language": "python",
   "name": "calibenv"
  },
  "language_info": {
   "codemirror_mode": {
    "name": "ipython",
    "version": 3
   },
   "file_extension": ".py",
   "mimetype": "text/x-python",
   "name": "python",
   "nbconvert_exporter": "python",
   "pygments_lexer": "ipython3",
   "version": "3.7.8"
  }
 },
 "nbformat": 4,
 "nbformat_minor": 4
}
